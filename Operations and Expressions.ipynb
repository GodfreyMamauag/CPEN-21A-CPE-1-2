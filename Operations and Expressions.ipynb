{
  "nbformat": 4,
  "nbformat_minor": 0,
  "metadata": {
    "colab": {
      "name": "Welcome To Colaboratory",
      "provenance": [],
      "collapsed_sections": [],
      "toc_visible": true,
      "include_colab_link": true
    },
    "kernelspec": {
      "display_name": "Python 3",
      "name": "python3"
    }
  },
  "cells": [
    {
      "cell_type": "markdown",
      "metadata": {
        "id": "view-in-github",
        "colab_type": "text"
      },
      "source": [
        "<a href=\"https://colab.research.google.com/github/GodfreyMamauag/CPEN-21A-CPE-1-2/blob/main/Operations%20and%20Expressions.ipynb\" target=\"_parent\"><img src=\"https://colab.research.google.com/assets/colab-badge.svg\" alt=\"Open In Colab\"/></a>"
      ]
    },
    {
      "cell_type": "markdown",
      "metadata": {
        "id": "cnjPfd6cAFBl"
      },
      "source": [
        "## Boolean Operators\n"
      ]
    },
    {
      "cell_type": "code",
      "metadata": {
        "id": "nI7OAbQ9A5pH",
        "outputId": "d1f06ff9-190e-4cfe-afa0-a4b964c28ab1",
        "colab": {
          "base_uri": "https://localhost:8080/"
        }
      },
      "source": [
        "#Booleans represents one of two values: True or False\n",
        "print(20>15)\n",
        "print(20==15)\n",
        "print(15>20)"
      ],
      "execution_count": 2,
      "outputs": [
        {
          "output_type": "stream",
          "name": "stdout",
          "text": [
            "True\n",
            "False\n",
            "False\n"
          ]
        }
      ]
    },
    {
      "cell_type": "code",
      "metadata": {
        "id": "w6dxJ6cwBctu",
        "outputId": "d54310c0-05c4-4c46-9353-83ecc4107123",
        "colab": {
          "base_uri": "https://localhost:8080/"
        }
      },
      "source": [
        "def myFunction():return True\n",
        "print(myFunction())"
      ],
      "execution_count": 3,
      "outputs": [
        {
          "output_type": "stream",
          "name": "stdout",
          "text": [
            "True\n"
          ]
        }
      ]
    },
    {
      "cell_type": "code",
      "metadata": {
        "id": "YwmEcuCSBhar",
        "outputId": "ee669820-2d6b-4bc0-9106-a0311ffc0fd0",
        "colab": {
          "base_uri": "https://localhost:8080/"
        }
      },
      "source": [
        "def myFunction():return True\n",
        "print(myFunction())\n",
        "\n",
        "if myFunction():\n",
        " print(\"YES\")\n",
        "else:\n",
        " print(\"NO\")"
      ],
      "execution_count": 4,
      "outputs": [
        {
          "output_type": "stream",
          "name": "stdout",
          "text": [
            "True\n",
            "YES\n"
          ]
        }
      ]
    },
    {
      "cell_type": "code",
      "metadata": {
        "id": "J2fpbOhmBisr",
        "outputId": "bbcca1ed-5efe-4d3f-a86a-37f7c1b9952a",
        "colab": {
          "base_uri": "https://localhost:8080/"
        }
      },
      "source": [
        "a=10\n",
        "b=5\n",
        "\n",
        "print(a==b)\n",
        "print(a!=a)"
      ],
      "execution_count": 5,
      "outputs": [
        {
          "output_type": "stream",
          "name": "stdout",
          "text": [
            "False\n",
            "False\n"
          ]
        }
      ]
    },
    {
      "cell_type": "code",
      "metadata": {
        "id": "NYGQ7f1WCERg",
        "outputId": "7fbd75ae-f686-4206-cd40-d5c7d0ce7cb3",
        "colab": {
          "base_uri": "https://localhost:8080/"
        }
      },
      "source": [
        "\n",
        "print(11+10)\n",
        "print(11-10)\n",
        "print(11*10)\n",
        "print(11/10) #division-quotient\n",
        "print(11%5) #modulo division\n",
        "print(11%10) #modulo division\n",
        "print(11//10) #floor division"
      ],
      "execution_count": 7,
      "outputs": [
        {
          "output_type": "stream",
          "name": "stdout",
          "text": [
            "21\n",
            "1\n",
            "110\n",
            "1.1\n",
            "1\n",
            "1\n",
            "1\n"
          ]
        }
      ]
    },
    {
      "cell_type": "code",
      "metadata": {
        "id": "JkO7F9neCiUh",
        "outputId": "a1b2243c-a09f-4d32-c3ff-8abcc71ee72e",
        "colab": {
          "base_uri": "https://localhost:8080/"
        }
      },
      "source": [
        "a=60 #0011 1100  0000 1111\n",
        "b=13 #0000 1101\n",
        "\n",
        "print(a&b)\n",
        "print(a|b)\n",
        "print(a^b)\n",
        "print(a<<2)\n",
        "print(a>>2)"
      ],
      "execution_count": 8,
      "outputs": [
        {
          "output_type": "stream",
          "name": "stdout",
          "text": [
            "12\n",
            "61\n",
            "49\n",
            "240\n",
            "15\n"
          ]
        }
      ]
    },
    {
      "cell_type": "code",
      "metadata": {
        "id": "WRBw9i8rCo1i",
        "outputId": "bae6b152-e2f3-4f5f-db59-b8d7dc3abb07",
        "colab": {
          "base_uri": "https://localhost:8080/"
        }
      },
      "source": [
        "x=6\n",
        "x+=3  #x=x+3\n",
        "print(x)\n",
        "\n",
        "x%=3\n",
        "print(x)"
      ],
      "execution_count": 9,
      "outputs": [
        {
          "output_type": "stream",
          "name": "stdout",
          "text": [
            "9\n",
            "0\n"
          ]
        }
      ]
    },
    {
      "cell_type": "code",
      "metadata": {
        "id": "EE_e16ZfCp2j",
        "outputId": "dc8d2f32-56d8-43b4-fe73-bc24488db3e2",
        "colab": {
          "base_uri": "https://localhost:8080/"
        }
      },
      "source": [
        "a=True\n",
        "b=False\n",
        "\n",
        "print (a and b)\n",
        "print (a or b)\n",
        "print (not(a and b))\n",
        "print (not(a and b)) #negation"
      ],
      "execution_count": 10,
      "outputs": [
        {
          "output_type": "stream",
          "name": "stdout",
          "text": [
            "False\n",
            "True\n",
            "True\n",
            "True\n"
          ]
        }
      ]
    },
    {
      "cell_type": "code",
      "metadata": {
        "id": "eg0naaJ3Cryj",
        "outputId": "63330faa-a43f-41e6-fc42-00cf2bd3c93d",
        "colab": {
          "base_uri": "https://localhost:8080/"
        }
      },
      "source": [
        "print(a is b)\n",
        "print (a is not b)"
      ],
      "execution_count": 11,
      "outputs": [
        {
          "output_type": "stream",
          "name": "stdout",
          "text": [
            "False\n",
            "True\n"
          ]
        }
      ]
    }
  ]
}