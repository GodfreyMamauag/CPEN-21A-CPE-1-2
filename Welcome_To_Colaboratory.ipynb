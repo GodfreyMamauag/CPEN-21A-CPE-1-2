{
  "nbformat": 4,
  "nbformat_minor": 0,
  "metadata": {
    "colab": {
      "name": "Welcome To Colaboratory",
      "provenance": [],
      "collapsed_sections": [],
      "include_colab_link": true
    },
    "kernelspec": {
      "display_name": "Python 3",
      "name": "python3"
    }
  },
  "cells": [
    {
      "cell_type": "markdown",
      "metadata": {
        "id": "view-in-github",
        "colab_type": "text"
      },
      "source": [
        "<a href=\"https://colab.research.google.com/github/GodfreyMamauag/CPEN-21A-CPE-1-2/blob/main/Welcome_To_Colaboratory.ipynb\" target=\"_parent\"><img src=\"https://colab.research.google.com/assets/colab-badge.svg\" alt=\"Open In Colab\"/></a>"
      ]
    },
    {
      "cell_type": "markdown",
      "metadata": {
        "id": "TU9pdIUSDZn1"
      },
      "source": [
        "Python Idention"
      ]
    },
    {
      "cell_type": "code",
      "metadata": {
        "id": "3gtTy2pAF4MF",
        "outputId": "5e656d1e-313e-4301-959d-2e92cade8351",
        "colab": {
          "base_uri": "https://localhost:8080/"
        }
      },
      "source": [
        "if 10>5:\n",
        "  print(\"ten is greater than five\")"
      ],
      "execution_count": 11,
      "outputs": [
        {
          "output_type": "stream",
          "name": "stdout",
          "text": [
            "ten is greater than five\n"
          ]
        }
      ]
    },
    {
      "cell_type": "markdown",
      "metadata": {
        "id": "BMMiBGe-GGMd"
      },
      "source": [
        "Python **Comments**"
      ]
    },
    {
      "cell_type": "code",
      "metadata": {
        "id": "aiuDXzBmGJCF",
        "outputId": "7649f3b2-f073-44ab-9b43-75066037a463",
        "colab": {
          "base_uri": "https://localhost:8080/"
        }
      },
      "source": [
        "#This is a comment\n",
        "print(\"Good day Godfrey\")"
      ],
      "execution_count": 12,
      "outputs": [
        {
          "output_type": "stream",
          "name": "stdout",
          "text": [
            "Good day Godfrey\n"
          ]
        }
      ]
    },
    {
      "cell_type": "markdown",
      "metadata": {
        "id": "r03XK6Y6GZZd"
      },
      "source": [
        "Variable Naming Convention"
      ]
    },
    {
      "cell_type": "code",
      "metadata": {
        "id": "FTLfmkZdGd4k"
      },
      "source": [
        "myvar=\"Mark Godfrey\""
      ],
      "execution_count": 14,
      "outputs": []
    },
    {
      "cell_type": "markdown",
      "metadata": {
        "id": "Ph0rmTv5Gyzl"
      },
      "source": [
        "Python Variable"
      ]
    },
    {
      "cell_type": "code",
      "metadata": {
        "id": "t_MEjiHaHEIc"
      },
      "source": [
        "x=\"Godfrey\" #this is a type of string\n",
        "a,b=1,2\n",
        "a,b,c=1,2,3"
      ],
      "execution_count": 16,
      "outputs": []
    },
    {
      "cell_type": "markdown",
      "metadata": {
        "id": "o-jl8yIFHir-"
      },
      "source": [
        "Casting"
      ]
    },
    {
      "cell_type": "code",
      "metadata": {
        "id": "BLdsPIuJHj_L",
        "outputId": "a6114e76-5fa7-4cf9-f0eb-1d472ffd8a35",
        "colab": {
          "base_uri": "https://localhost:8080/"
        }
      },
      "source": [
        "x=\"Godfrey\" #this is a type of string\n",
        "x=int(4)\n",
        "print(x)\n",
        "x=float(4)\n",
        "print(b)"
      ],
      "execution_count": 17,
      "outputs": [
        {
          "output_type": "stream",
          "name": "stdout",
          "text": [
            "4\n",
            "2\n"
          ]
        }
      ]
    },
    {
      "cell_type": "markdown",
      "metadata": {
        "id": "c90ECCffH7jl"
      },
      "source": [
        "Type of Function"
      ]
    },
    {
      "cell_type": "code",
      "metadata": {
        "id": "zDOBA2yZH9OF",
        "outputId": "174abf7b-b107-4c3f-8af8-b5841b3f8d83",
        "colab": {
          "base_uri": "https://localhost:8080/"
        }
      },
      "source": [
        "x=10\n",
        "y=\"Godfrey\"\n",
        "print(type(x))\n",
        "print(type(y))"
      ],
      "execution_count": 18,
      "outputs": [
        {
          "output_type": "stream",
          "name": "stdout",
          "text": [
            "<class 'int'>\n",
            "<class 'str'>\n"
          ]
        }
      ]
    },
    {
      "cell_type": "markdown",
      "metadata": {
        "id": "Kcumep-QIMyF"
      },
      "source": [
        "Double or Single quotes"
      ]
    },
    {
      "cell_type": "code",
      "metadata": {
        "id": "WFUpELhWIP8V"
      },
      "source": [
        "y=\"Godfrey\"\n",
        "y='Godfrey'"
      ],
      "execution_count": 19,
      "outputs": []
    },
    {
      "cell_type": "markdown",
      "metadata": {
        "id": "cdti7LO_IXHU"
      },
      "source": [
        "Case Sensitive"
      ]
    },
    {
      "cell_type": "code",
      "metadata": {
        "id": "OdSeVrNjIaod"
      },
      "source": [
        "a=9\n",
        "A=\"Mark\"\n",
        "#A will not overwrite a"
      ],
      "execution_count": null,
      "outputs": []
    }
  ]
}