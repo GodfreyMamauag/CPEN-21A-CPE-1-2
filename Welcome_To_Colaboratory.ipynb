{
  "nbformat": 4,
  "nbformat_minor": 0,
  "metadata": {
    "colab": {
      "name": "Welcome To Colaboratory",
      "provenance": [],
      "collapsed_sections": [],
      "toc_visible": true,
      "include_colab_link": true
    },
    "kernelspec": {
      "display_name": "Python 3",
      "name": "python3"
    }
  },
  "cells": [
    {
      "cell_type": "markdown",
      "metadata": {
        "id": "view-in-github",
        "colab_type": "text"
      },
      "source": [
        "<a href=\"https://colab.research.google.com/github/GodfreyMamauag/CPEN-21A-CPE-1-2/blob/main/Welcome_To_Colaboratory.ipynb\" target=\"_parent\"><img src=\"https://colab.research.google.com/assets/colab-badge.svg\" alt=\"Open In Colab\"/></a>"
      ]
    },
    {
      "cell_type": "markdown",
      "metadata": {
        "id": "54akyxqA14hR"
      },
      "source": [
        "Laboratory 1\n"
      ]
    },
    {
      "cell_type": "code",
      "metadata": {
        "id": "Hkyp1t9t18VI",
        "outputId": "d643e624-e827-4301-8256-cc97df43f1a6",
        "colab": {
          "base_uri": "https://localhost:8080/"
        }
      },
      "source": [
        "a=('Welcome to Python Programming')\n",
        "print(a)"
      ],
      "execution_count": 2,
      "outputs": [
        {
          "output_type": "stream",
          "name": "stdout",
          "text": [
            "Welcome to Python Programming\n"
          ]
        }
      ]
    },
    {
      "cell_type": "code",
      "metadata": {
        "id": "2emWn14M2ITo",
        "outputId": "a8bc4760-e513-4dba-df1d-e474234741bb",
        "colab": {
          "base_uri": "https://localhost:8080/"
        }
      },
      "source": [
        "a=('Mark Godfrey C. Mamauag')\n",
        "b=(\"Alfonso Cavite\")\n",
        "c=(\"18\")\n",
        "print(a)\n",
        "print(b)\n",
        "print(c)"
      ],
      "execution_count": 3,
      "outputs": [
        {
          "output_type": "stream",
          "name": "stdout",
          "text": [
            "Mark Godfrey C. Mamauag\n",
            "Alfonso Cavite\n",
            "18\n"
          ]
        }
      ]
    }
  ]
}