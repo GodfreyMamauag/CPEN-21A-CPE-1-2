{
  "nbformat": 4,
  "nbformat_minor": 0,
  "metadata": {
    "colab": {
      "name": "Welcome To Colaboratory",
      "provenance": [],
      "collapsed_sections": [],
      "toc_visible": true,
      "include_colab_link": true
    },
    "kernelspec": {
      "display_name": "Python 3",
      "name": "python3"
    }
  },
  "cells": [
    {
      "cell_type": "markdown",
      "metadata": {
        "id": "view-in-github",
        "colab_type": "text"
      },
      "source": [
        "<a href=\"https://colab.research.google.com/github/GodfreyMamauag/CPEN-21A-CPE-1-2/blob/main/Welcome_To_Colaboratory.ipynb\" target=\"_parent\"><img src=\"https://colab.research.google.com/assets/colab-badge.svg\" alt=\"Open In Colab\"/></a>"
      ]
    },
    {
      "cell_type": "markdown",
      "metadata": {
        "id": "pv4Sljh8WzV-"
      },
      "source": [
        "\n",
        "Laboratory 1\n",
        "\n"
      ]
    },
    {
      "cell_type": "code",
      "metadata": {
        "id": "I1VDWFgVTwV_",
        "outputId": "fee5f639-adb2-41cc-ec48-68414e4a42c7",
        "colab": {
          "base_uri": "https://localhost:8080/"
        }
      },
      "source": [
        "x=\"Python Programming\"\n",
        "print(\"Welcome to \" + x)"
      ],
      "execution_count": 2,
      "outputs": [
        {
          "output_type": "stream",
          "name": "stdout",
          "text": [
            "Welcome to Python Programming\n"
          ]
        }
      ]
    },
    {
      "cell_type": "code",
      "metadata": {
        "id": "bkmIwNajWVeh",
        "outputId": "bb785534-e0c9-4f5a-cd77-406c6f035610",
        "colab": {
          "base_uri": "https://localhost:8080/"
        }
      },
      "source": [
        "a= name =\"Mark Godfrey C. Mamauag\"\n",
        "b= address = \"Alfonso Cavite\"\n",
        "c= age = \"18\"\n",
        "print(a)\n",
        "print(b)\n",
        "print(c)"
      ],
      "execution_count": 3,
      "outputs": [
        {
          "output_type": "stream",
          "name": "stdout",
          "text": [
            "Mark Godfrey C. Mamauag\n",
            "Alfonso Cavite\n",
            "18\n"
          ]
        }
      ]
    }
  ]
}