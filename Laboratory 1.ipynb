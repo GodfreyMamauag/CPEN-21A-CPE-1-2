{
  "nbformat": 4,
  "nbformat_minor": 0,
  "metadata": {
    "colab": {
      "name": "Welcome To Colaboratory",
      "provenance": [],
      "collapsed_sections": [],
      "toc_visible": true,
      "include_colab_link": true
    },
    "kernelspec": {
      "display_name": "Python 3",
      "name": "python3"
    }
  },
  "cells": [
    {
      "cell_type": "markdown",
      "metadata": {
        "id": "view-in-github",
        "colab_type": "text"
      },
      "source": [
        "<a href=\"https://colab.research.google.com/github/GodfreyMamauag/CPEN-21A-CPE-1-2/blob/main/Laboratory%201.ipynb\" target=\"_parent\"><img src=\"https://colab.research.google.com/assets/colab-badge.svg\" alt=\"Open In Colab\"/></a>"
      ]
    },
    {
      "cell_type": "markdown",
      "metadata": {
        "id": "CP7Vt6OS3q5w"
      },
      "source": [
        "Laboratory 1"
      ]
    },
    {
      "cell_type": "code",
      "metadata": {
        "id": "LgMcH5Ff3wFg",
        "outputId": "70b5daa8-d940-4179-9645-f0ba2f58c207",
        "colab": {
          "base_uri": "https://localhost:8080/"
        }
      },
      "source": [
        "a=('Welcome to Python Programming')\n",
        "print(a)"
      ],
      "execution_count": 4,
      "outputs": [
        {
          "output_type": "stream",
          "name": "stdout",
          "text": [
            "Welcome to Python Programming\n"
          ]
        }
      ]
    },
    {
      "cell_type": "code",
      "metadata": {
        "id": "1AQa1nw135vw",
        "outputId": "23ecb40a-8e6f-422b-ac7d-a4ccd2f8095a",
        "colab": {
          "base_uri": "https://localhost:8080/"
        }
      },
      "source": [
        "a=('Mark Godfrey C. Mamauag')\n",
        "b=(\"Alfonso,Cavite\")\n",
        "c=(\"18\")\n",
        "print(\"Name: \"+a)\n",
        "print(\"address: \"+b)\n",
        "print(\"age: \"+c)"
      ],
      "execution_count": 5,
      "outputs": [
        {
          "output_type": "stream",
          "name": "stdout",
          "text": [
            "Name: Mark Godfrey C. Mamauag\n",
            "address: Alfonso,Cavite\n",
            "age: 18\n"
          ]
        }
      ]
    }
  ]
}