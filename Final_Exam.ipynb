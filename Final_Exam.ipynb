{
  "nbformat": 4,
  "nbformat_minor": 0,
  "metadata": {
    "colab": {
      "name": "Final Exam.ipynb",
      "provenance": [],
      "authorship_tag": "ABX9TyMDzQk2Xrem+0noGPXoVuNz",
      "include_colab_link": true
    },
    "kernelspec": {
      "name": "python3",
      "display_name": "Python 3"
    },
    "language_info": {
      "name": "python"
    }
  },
  "cells": [
    {
      "cell_type": "markdown",
      "metadata": {
        "id": "view-in-github",
        "colab_type": "text"
      },
      "source": [
        "<a href=\"https://colab.research.google.com/github/GodfreyMamauag/CPEN-21A-CPE-1-2/blob/main/Final_Exam.ipynb\" target=\"_parent\"><img src=\"https://colab.research.google.com/assets/colab-badge.svg\" alt=\"Open In Colab\"/></a>"
      ]
    },
    {
      "cell_type": "markdown",
      "source": [
        "Problem Statement 1"
      ],
      "metadata": {
        "id": "pifKjBy0bxto"
      }
    },
    {
      "cell_type": "code",
      "source": [
        "num = [0,1,2,3,4,-1,-2,-3,-4.-5]\n",
        "for a in num:\n",
        "  sum = a+0\n",
        "  print(\"the sum of 10 numbers less than 5 is\", sum)"
      ],
      "metadata": {
        "colab": {
          "base_uri": "https://localhost:8080/"
        },
        "id": "QHOeI3-xbzcz",
        "outputId": "96c2925d-1454-4db8-84e8-606602dc2cdc"
      },
      "execution_count": 3,
      "outputs": [
        {
          "output_type": "stream",
          "name": "stdout",
          "text": [
            "the sum of 10 numbers less than 5 is 0\n",
            "the sum of 10 numbers less than 5 is 1\n",
            "the sum of 10 numbers less than 5 is 2\n",
            "the sum of 10 numbers less than 5 is 3\n",
            "the sum of 10 numbers less than 5 is 4\n",
            "the sum of 10 numbers less than 5 is -1\n",
            "the sum of 10 numbers less than 5 is -2\n",
            "the sum of 10 numbers less than 5 is -3\n",
            "the sum of 10 numbers less than 5 is -9.0\n"
          ]
        }
      ]
    },
    {
      "cell_type": "markdown",
      "source": [
        "Problem Statement **2**"
      ],
      "metadata": {
        "id": "RYD6iIUlcgGY"
      }
    },
    {
      "cell_type": "code",
      "source": [
        "num = []\n",
        "while len(num) is not 5:\n",
        "  user = int(input(\"Input number:\"))\n",
        "  num.append(user)\n",
        "print(num)\n",
        "summ = num[0] + num[-1]\n",
        "print(sum)"
      ],
      "metadata": {
        "colab": {
          "base_uri": "https://localhost:8080/"
        },
        "id": "AESE8Q4vcjUE",
        "outputId": "55111690-475e-44d2-a644-dc4535d6e129"
      },
      "execution_count": 5,
      "outputs": [
        {
          "output_type": "stream",
          "name": "stdout",
          "text": [
            "Input number:5\n",
            "Input number:4\n",
            "Input number:3\n",
            "Input number:2\n",
            "Input number:1\n",
            "[5, 4, 3, 2, 1]\n",
            "-9.0\n"
          ]
        }
      ]
    },
    {
      "cell_type": "markdown",
      "source": [
        "Promblem Statement 3"
      ],
      "metadata": {
        "id": "HU0-64sldKZB"
      }
    },
    {
      "cell_type": "code",
      "source": [
        "grade = a =(int(input(\"Insert your grade:\")))\n",
        "if a >= 90:\n",
        "  print(\"A\")\n",
        "elif a >= 80:\n",
        "    print(\"B\")\n",
        "elif a >= 70:\n",
        "  print(\"C\")\n",
        "elif a >= 60:\n",
        "  print(\"D\")\n",
        "else:\n",
        "    print(\"F\")"
      ],
      "metadata": {
        "colab": {
          "base_uri": "https://localhost:8080/"
        },
        "id": "hoHIYVfSejg6",
        "outputId": "f8c04186-f768-4548-eacd-ffd9f7c59c22"
      },
      "execution_count": 15,
      "outputs": [
        {
          "output_type": "stream",
          "name": "stdout",
          "text": [
            "Insert your grade:99\n",
            "A\n"
          ]
        }
      ]
    }
  ]
}