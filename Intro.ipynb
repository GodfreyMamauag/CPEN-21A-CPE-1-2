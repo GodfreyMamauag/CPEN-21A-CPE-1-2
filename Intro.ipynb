{
  "cells": [
    {
      "cell_type": "markdown",
      "metadata": {
        "id": "view-in-github",
        "colab_type": "text"
      },
      "source": [
        "<a href=\"https://colab.research.google.com/github/GodfreyMamauag/CPEN-21A-CPE-1-2/blob/main/Intro.ipynb\" target=\"_parent\"><img src=\"https://colab.research.google.com/assets/colab-badge.svg\" alt=\"Open In Colab\"/></a>"
      ]
    },
    {
      "cell_type": "code",
      "source": [
        "if 5>4:\n",
        " print(\"five is greater than two\")"
      ],
      "metadata": {
        "id": "wqwQCFVcErsl",
        "outputId": "3514e88a-a43a-4cd0-814d-91a790d9264f",
        "colab": {
          "base_uri": "https://localhost:8080/"
        }
      },
      "execution_count": 2,
      "outputs": [
        {
          "output_type": "stream",
          "name": "stdout",
          "text": [
            "five is greater than two\n"
          ]
        }
      ]
    },
    {
      "cell_type": "code",
      "source": [
        "x = 5   \n",
        "x,y=5,6\n",
        "x,y,z=5,6,7 \n",
        "print(x)\n",
        "print(y)\n",
        "print(z)"
      ],
      "metadata": {
        "id": "RAMrPyACE0Nk",
        "outputId": "7edb503d-010e-4f89-947c-de305a925ea8",
        "colab": {
          "base_uri": "https://localhost:8080/"
        }
      },
      "execution_count": 5,
      "outputs": [
        {
          "output_type": "stream",
          "name": "stdout",
          "text": [
            "5\n",
            "6\n",
            "7\n"
          ]
        }
      ]
    },
    {
      "cell_type": "markdown",
      "source": [
        "CASTING"
      ],
      "metadata": {
        "id": "Qm1vY_hIFCzb"
      }
    },
    {
      "cell_type": "code",
      "source": [
        "b = int(5)\n",
        "b\n",
        "c = float(5)\n",
        "c"
      ],
      "metadata": {
        "id": "LEh75k6AE4AU",
        "outputId": "23050906-af07-4b46-996b-09dbdae9f414",
        "colab": {
          "base_uri": "https://localhost:8080/"
        }
      },
      "execution_count": 6,
      "outputs": [
        {
          "output_type": "execute_result",
          "data": {
            "text/plain": [
              "5.0"
            ]
          },
          "metadata": {},
          "execution_count": 6
        }
      ]
    },
    {
      "cell_type": "markdown",
      "source": [
        "TYPE OF FUNCTION"
      ],
      "metadata": {
        "id": "iwEpOotYFFFT"
      }
    },
    {
      "cell_type": "code",
      "source": [
        "x = 1\n",
        "y = \"John\"  \n",
        "h = 'ana'\n",
        "H = 'Ana'\n",
        "print(type(x))\n",
        "print(type(y))\n",
        "print(h)\n",
        "print(H)"
      ],
      "metadata": {
        "id": "IRk53Ul5E6Ns",
        "outputId": "4ede507a-ffe5-488b-891d-43476880b87d",
        "colab": {
          "base_uri": "https://localhost:8080/"
        }
      },
      "execution_count": 9,
      "outputs": [
        {
          "output_type": "stream",
          "name": "stdout",
          "text": [
            "<class 'int'>\n",
            "<class 'str'>\n",
            "ana\n",
            "Ana\n"
          ]
        }
      ]
    },
    {
      "cell_type": "markdown",
      "source": [
        "ONE VALUE TO MULTIPLE VARIBLES"
      ],
      "metadata": {
        "id": "G_uMCqpfFP5U"
      }
    },
    {
      "cell_type": "code",
      "source": [
        "x = y = z = 'five'\n",
        "print(x)\n",
        "print(y)\n",
        "print(z)"
      ],
      "metadata": {
        "id": "CTkoY7I1FOEl",
        "outputId": "8f305329-eb6b-466a-fff8-d0b4b9efcebf",
        "colab": {
          "base_uri": "https://localhost:8080/"
        }
      },
      "execution_count": 10,
      "outputs": [
        {
          "output_type": "stream",
          "name": "stdout",
          "text": [
            "five\n",
            "five\n",
            "five\n"
          ]
        }
      ]
    },
    {
      "cell_type": "markdown",
      "source": [
        "OUTPUT VARIABLES"
      ],
      "metadata": {
        "id": "MVMqi64sFaZ8"
      }
    },
    {
      "cell_type": "code",
      "source": [
        "x = \"enjoying\"\n",
        "print(\"Python Programming is \" + x)"
      ],
      "metadata": {
        "id": "ApVz0K42FcYk",
        "outputId": "53b32fe8-a181-4126-9223-e4be6882c869",
        "colab": {
          "base_uri": "https://localhost:8080/"
        }
      },
      "execution_count": 11,
      "outputs": [
        {
          "output_type": "stream",
          "name": "stdout",
          "text": [
            "Python Programming is enjoying\n"
          ]
        }
      ]
    },
    {
      "cell_type": "code",
      "source": [
        "x = 5\n",
        "y = 6\n",
        "z = 7\n",
        "print(x+y+z)"
      ],
      "metadata": {
        "id": "l5a9ehPLFekU",
        "outputId": "6d97a7bc-8253-4013-b4a9-576d70ea3a74",
        "colab": {
          "base_uri": "https://localhost:8080/"
        }
      },
      "execution_count": 12,
      "outputs": [
        {
          "output_type": "stream",
          "name": "stdout",
          "text": [
            "18\n"
          ]
        }
      ]
    },
    {
      "cell_type": "code",
      "source": [
        "x+=5  \n",
        "print(x)"
      ],
      "metadata": {
        "id": "otecZYfQFin1",
        "outputId": "6a5e291f-bec4-49f1-832e-854a950cb231",
        "colab": {
          "base_uri": "https://localhost:8080/"
        }
      },
      "execution_count": 13,
      "outputs": [
        {
          "output_type": "stream",
          "name": "stdout",
          "text": [
            "10\n"
          ]
        }
      ]
    },
    {
      "cell_type": "code",
      "source": [
        "y+=10\n",
        "print(y)"
      ],
      "metadata": {
        "id": "KCPcJqJcFoK8",
        "outputId": "61723823-aac5-4625-f0f1-c830628cb39d",
        "colab": {
          "base_uri": "https://localhost:8080/"
        }
      },
      "execution_count": 14,
      "outputs": [
        {
          "output_type": "stream",
          "name": "stdout",
          "text": [
            "16\n"
          ]
        }
      ]
    },
    {
      "cell_type": "code",
      "source": [
        "x<y and x!=x"
      ],
      "metadata": {
        "id": "ZeemeDdVFraM",
        "outputId": "a81f0e2c-d539-47dd-8888-665ee3dc5904",
        "colab": {
          "base_uri": "https://localhost:8080/"
        }
      },
      "execution_count": 15,
      "outputs": [
        {
          "output_type": "execute_result",
          "data": {
            "text/plain": [
              "False"
            ]
          },
          "metadata": {},
          "execution_count": 15
        }
      ]
    },
    {
      "cell_type": "code",
      "source": [
        "x>y or y==z"
      ],
      "metadata": {
        "id": "JJIzjm6vFt4M",
        "outputId": "e1f6c912-541f-4a7e-e945-5d43a6e911ad",
        "colab": {
          "base_uri": "https://localhost:8080/"
        }
      },
      "execution_count": 16,
      "outputs": [
        {
          "output_type": "execute_result",
          "data": {
            "text/plain": [
              "False"
            ]
          },
          "metadata": {},
          "execution_count": 16
        }
      ]
    },
    {
      "cell_type": "markdown",
      "source": [
        "IDENTITY OPERATIONS"
      ],
      "metadata": {
        "id": "EZeYm1XEFxCE"
      }
    },
    {
      "cell_type": "code",
      "source": [
        "print(x is y)\n",
        "print(x is not z)"
      ],
      "metadata": {
        "id": "6neRys81Fv5U",
        "outputId": "4af2b966-1bdc-4dee-9f67-3dc2c63cc7ef",
        "colab": {
          "base_uri": "https://localhost:8080/"
        }
      },
      "execution_count": 17,
      "outputs": [
        {
          "output_type": "stream",
          "name": "stdout",
          "text": [
            "False\n",
            "True\n"
          ]
        }
      ]
    }
  ],
  "metadata": {
    "colab": {
      "collapsed_sections": [],
      "name": "Welcome To Colaboratory",
      "toc_visible": true,
      "provenance": [],
      "include_colab_link": true
    },
    "kernelspec": {
      "display_name": "Python 3",
      "name": "python3"
    }
  },
  "nbformat": 4,
  "nbformat_minor": 0
}